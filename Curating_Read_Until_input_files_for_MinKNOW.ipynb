{
  "nbformat": 4,
  "nbformat_minor": 0,
  "metadata": {
    "colab": {
      "name": "Curating Read Until input files for MinKNOW",
      "provenance": [],
      "collapsed_sections": [],
      "authorship_tag": "ABX9TyPTRIAcijYmLJhsxSQ4n8Oi",
      "include_colab_link": true
    },
    "kernelspec": {
      "name": "python3",
      "display_name": "Python 3"
    }
  },
  "cells": [
    {
      "cell_type": "markdown",
      "metadata": {
        "id": "view-in-github",
        "colab_type": "text"
      },
      "source": [
        "<a href=\"https://colab.research.google.com/github/cjw85/ClaraGenomicsAnalysis/blob/master/Curating_Read_Until_input_files_for_MinKNOW.ipynb\" target=\"_parent\"><img src=\"https://colab.research.google.com/assets/colab-badge.svg\" alt=\"Open In Colab\"/></a>"
      ]
    },
    {
      "cell_type": "markdown",
      "metadata": {
        "id": "0IsPU13jShte",
        "colab_type": "text"
      },
      "source": [
        "<h1>Curating Read Until input files for MinKNOW</h1>\n",
        "\n",
        "The following short workflow will prepare and download the necessary file to perform a Read Until sequence experiment selecting for reads that span genes, transcripts, exons, etc. stored within [ensembl](https://www.ensembl.org/).\n",
        "\n",
        "To prepare the files, simply execute teh code cells below in sequence by pressing the `Play` button to the left-hand side."
      ]
    },
    {
      "cell_type": "code",
      "metadata": {
        "id": "rXy_YKVGP_OU",
        "colab_type": "code",
        "colab": {},
        "cellView": "form"
      },
      "source": [
        "#@markdown *Code installation*\n",
        "print(\" * Installing software\")\n",
        "!pip install pyranges > /dev/null\n",
        "from ftplib import FTP\n",
        "import os\n",
        "from google.colab import files\n",
        "import ipywidgets as widgets\n",
        "import pandas as pd\n",
        "import pyranges as pr\n",
        "import requests\n",
        "\n",
        "\n",
        "class EnsemblRestClient(object):\n",
        "    def __init__(self, server='http://rest.ensembl.org'):\n",
        "        self.server = 'http://rest.ensembl.org'\n",
        "        self.ftp = 'ftp.ensembl.org'\n",
        "        self.ftp_dna_path = '/pub/release-100/fasta/{}/dna/'\n",
        "        self.ftp_dna_suff = {\n",
        "            'primary':'dna.primary_assembly.fa.gz',\n",
        "            'toplevel':'dna.toplevel.fa.gz'}\n",
        "        self.ftp_gtf_path = '/pub/release-100/gtf/{}/'\n",
        "        self.ftp_gtf_suff = {\n",
        "            'gtf':\"100.gtf.gz\"}\n",
        "\n",
        "        self.dna_template = \\\n",
        "            \"ftp://\" + self.ftp + self.ftp_dna_path + \\\n",
        "            \"/{}.{}.\" + self.ftp_dna_suff['toplevel']\n",
        "        self.gtf_template = \\\n",
        "            \"ftp://\" + self.ftp + self.ftp_gtf_path + \\\n",
        "            \"/{}.{}.\" + self.ftp_gtf_suff['gtf']\n",
        "\n",
        "    def get(self, endpoint, params=dict(), **kwargs):\n",
        "        if 'json' not in kwargs:\n",
        "            kwargs['json'] = params\n",
        "        data = dict()\n",
        "        try:\n",
        "            response = requests.get(self.server + endpoint, **kwargs)\n",
        "            if response.status_code == 429:\n",
        "                if 'Retry-After' in response.headers:\n",
        "                    retry = e.headers['Retry-After']\n",
        "                    time.sleep(float(retry))\n",
        "                    response = requests.get(self.server + endpoint, **kwargs)\n",
        "        except:\n",
        "            print(' - Request failed for {0}'.format(endpoint))\n",
        "            print(response.status_code) \n",
        "        else:\n",
        "            data = response.json()\n",
        "            if \"error\" in data:\n",
        "                print(\" - ERROR:\\n   {}\".format(data[\"error\"]))\n",
        "        return data\n",
        "\n",
        "    def species_list(self):\n",
        "        return self.get(\"/info/species\")\n",
        "\n",
        "    def assembly_name(self, species):\n",
        "        #assembly = client.get('/info/assembly/{}'.format(species))\n",
        "        #if 'assembly_name' in assembly:\n",
        "        #    return assembly['assembly_name']\n",
        "        paths = self._ftp_list(\n",
        "            self.ftp_dna_path.format(species), self.ftp_dna_suff)\n",
        "        return paths['toplevel'].split('.')[1]\n",
        "\n",
        "    def _ftp_list(self, path, filt):\n",
        "        ftpdata = dict()\n",
        "        with FTP('ftp.ensembl.org') as ftp:\n",
        "            ftp.login()\n",
        "            def grab(x):\n",
        "                fname = x.split()[-1]\n",
        "                for key, value in filt.items():\n",
        "                    if fname.endswith(value):\n",
        "                        ftpdata[key] = fname\n",
        "            ftp.dir(path, grab)\n",
        "        return ftpdata\n",
        "\n",
        "    def dna_url(self, species, toplevel=True, assembly_name=None):\n",
        "        if assembly_name is None:\n",
        "            assembly_name = client.assembly_name(species)\n",
        "        return self.dna_template.format(\n",
        "            species, species.capitalize(), assembly_name)\n",
        "        \n",
        "    def gtf_url(self, species, assembly_name=None):\n",
        "        if assembly_name is None:\n",
        "            assembly_name = client.assembly_name(species)\n",
        "        return self.gtf_template.format(\n",
        "            species, species.capitalize(), assembly_name)\n",
        "\n",
        "\n",
        "print(\" * Querying ensembl species\")\n",
        "client = EnsemblRestClient()\n",
        "species_list = client.species_list()\n",
        "species_list = sorted(s['name'] for s in species_list['species'])\n",
        "print(\" - Found {} species\".format(len(species_list)))\n",
        "species_list.insert(0, \"--\")\n",
        "urls = (None, None)"
      ],
      "execution_count": null,
      "outputs": []
    },
    {
      "cell_type": "markdown",
      "metadata": {
        "id": "QRg7J88GSi9W",
        "colab_type": "text"
      },
      "source": [
        "To efficiently produce reasonable target regions please provide an average read length. This should be an arithmetic mean not an N50 length. After pressing play here you will be given the opportunity to select your genome of interest from a drop-down box."
      ]
    },
    {
      "cell_type": "code",
      "metadata": {
        "id": "giK73pqCEl9H",
        "colab_type": "code",
        "colab": {},
        "cellView": "form"
      },
      "source": [
        "read_length =  5000 #@param {type:\"integer\"}\n",
        "\n",
        "def species_change(change):\n",
        "    global urls\n",
        "    if change['type'] == 'change' and change['name'] == 'value':\n",
        "        print(\" * Finding files, please wait...\", end=\"\")\n",
        "        spec = change['new']\n",
        "        assm = client.assembly_name(spec)\n",
        "        dna_url = client.dna_url(spec, assembly_name=assm)\n",
        "        gtf_url = client.gtf_url(spec, assembly_name=assm)\n",
        "        urls = (dna_url, gtf_url)\n",
        "        print(\"done\")\n",
        "\n",
        "print(\"Select a species:\")\n",
        "species_dropdown = widgets.Dropdown(\n",
        "    options=species_list, value='--', description='species:')\n",
        "species_dropdown.observe(species_change)\n",
        "display(species_dropdown)"
      ],
      "execution_count": null,
      "outputs": []
    },
    {
      "cell_type": "markdown",
      "metadata": {
        "id": "2gLaDwHBSkOb",
        "colab_type": "text"
      },
      "source": [
        "After the message `* Finding files, please wait...done` has been display above, press play on the next code cell to retrieve the required data and prepare the files required for MinKNOW.\n",
        "\n"
      ]
    },
    {
      "cell_type": "code",
      "metadata": {
        "id": "R_YjqlKnPh6h",
        "colab_type": "code",
        "colab": {},
        "cellView": "form"
      },
      "source": [
        "#@markdown *Assembly and gene retrieval and processing*\n",
        "dna_url, gtf_url = urls\n",
        "try:\n",
        "    print(\" * Retrieving files...\")\n",
        "    print(dna_url)\n",
        "    print(gtf_url)\n",
        "    dna_path = os.path.basename(dna_url)\n",
        "    gtf_path = os.path.basename(gtf_url)\n",
        "    if not os.path.isfile(dna_path):\n",
        "        !wget $dna_url || printf \"\\n * Failed to download assembly\\n\"\n",
        "        if not os.path.isfile(dna_path):\n",
        "            raise FileNotFoundError('Assembly could not be downloaded.')\n",
        "    else:\n",
        "        print(\" - Skipping genome download\")\n",
        "    if not os.path.isfile(gtf_path):\n",
        "        !wget $gtf_url || printf \"\\n * Failed to download gtf\\n\"\n",
        "        if not os.path.isfile(gtf_path):\n",
        "            raise FileNotFoundError('GTF could not be downloaded.')\n",
        "    else:\n",
        "        print(\" - Skipping gtf download\")\n",
        "except Exception as e:\n",
        "    print(\" * Failed to retrieve files\")\n",
        "    print(\"{}\".format(e))\n",
        "else:\n",
        "    print(\" * Finished download\")\n",
        "    \n",
        "    print(\" * Reading gtf\")\n",
        "    ranges = pr.read_gtf(gtf_path)\n",
        "    print(\" - Merging and expanding intervals (this may take a while)...\", end=\"\")\n",
        "    merged = ranges.merge(strand=False)\n",
        "    sloppy = merged.slack(read_length // 2).merge(strand=False)\n",
        "    print(\"done\")\n",
        "    df = pd.DataFrame({'Original':[len(ranges)], 'Merged':[len(merged)], 'Expanded':[len(sloppy)]})\n",
        "    display(df)\n",
        "    bed_path = \"{}.read_until.bed\".format(dna_path)\n",
        "    sloppy.to_bed(bed_path)\n",
        "\n",
        "    print(\" * Output files:\")\n",
        "    print(\"   - Genome: {}\".format(os.path.abspath(dna_path)))\n",
        "    print(\"   - Bed   : {}\".format(os.path.abspath(bed_path)))"
      ],
      "execution_count": null,
      "outputs": []
    },
    {
      "cell_type": "markdown",
      "metadata": {
        "id": "npL8JRnPzBz_",
        "colab_type": "text"
      },
      "source": [
        "When the above code has finished executing, pressing play on the next step will download to your computer:\n",
        "\n",
        "1.   A reference genome (to provide to MinKNOW)\n",
        "2.   The source `.gtf` file from which target regions were produced.\n",
        "3.   A `.bed` file containing target regions to provide to MinKNOW."
      ]
    },
    {
      "cell_type": "code",
      "metadata": {
        "id": "GMV2I7WjzB78",
        "colab_type": "code",
        "colab": {},
        "cellView": "form"
      },
      "source": [
        "#@markdown *File download*\n",
        "download_genome = True #@param {type:\"boolean\"}\n",
        "download_gtf = True #@param {type:\"boolean\"}\n",
        "download_targets = True #@param {type:\"boolean\"}\n",
        "print(\" * Downloading files:\")\n",
        "\n",
        "if download_genome:\n",
        "    files.download(dna_path)\n",
        "if download_gtf:\n",
        "    files.download(gtf_path)\n",
        "if download_targets:\n",
        "    files.download(bed_path)"
      ],
      "execution_count": null,
      "outputs": []
    }
  ]
}